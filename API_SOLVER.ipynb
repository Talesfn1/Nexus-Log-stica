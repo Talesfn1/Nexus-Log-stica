{
  "nbformat": 4,
  "nbformat_minor": 0,
  "metadata": {
    "colab": {
      "provenance": [],
      "authorship_tag": "ABX9TyNlfONgx27oX6iUE33cZBht",
      "include_colab_link": true
    },
    "kernelspec": {
      "name": "python3",
      "display_name": "Python 3"
    },
    "language_info": {
      "name": "python"
    }
  },
  "cells": [
    {
      "cell_type": "markdown",
      "metadata": {
        "id": "view-in-github",
        "colab_type": "text"
      },
      "source": [
        "<a href=\"https://colab.research.google.com/github/Talesfn1/Nexus-Log-stica/blob/main/API_SOLVER.ipynb\" target=\"_parent\"><img src=\"https://colab.research.google.com/assets/colab-badge.svg\" alt=\"Open In Colab\"/></a>"
      ]
    },
    {
      "cell_type": "code",
      "execution_count": 5,
      "metadata": {
        "colab": {
          "base_uri": "https://localhost:8080/"
        },
        "id": "Vjr-gACU--Cf",
        "outputId": "abba393d-dc83-4988-9ac5-c9d1c1ca02a6"
      },
      "outputs": [
        {
          "output_type": "stream",
          "name": "stdout",
          "text": [
            "Collecting pulp\n",
            "  Downloading pulp-3.1.1-py3-none-any.whl.metadata (1.3 kB)\n",
            "Downloading pulp-3.1.1-py3-none-any.whl (16.4 MB)\n",
            "\u001b[2K   \u001b[90m━━━━━━━━━━━━━━━━━━━━━━━━━━━━━━━━━━━━━━━━\u001b[0m \u001b[32m16.4/16.4 MB\u001b[0m \u001b[31m90.8 MB/s\u001b[0m eta \u001b[36m0:00:00\u001b[0m\n",
            "\u001b[?25hInstalling collected packages: pulp\n",
            "Successfully installed pulp-3.1.1\n"
          ]
        }
      ],
      "source": [
        "!pip install pulp"
      ]
    },
    {
      "cell_type": "code",
      "source": [
        "from pulp import LpProblem, LpMinimize, LpVariable, lpSum, LpStatus, value"
      ],
      "metadata": {
        "id": "Hkzxpqg3_H2z"
      },
      "execution_count": 6,
      "outputs": []
    },
    {
      "cell_type": "code",
      "source": [
        "\n",
        "capacidades = [17000000, 12500000, 19500000]\n",
        "\n",
        "demandas = [\n",
        "     1172400.0, 865500.0, 436800.0, 782700.0, 2363400.0, 1324500.0, 1203600.0, 1705800.0, 2943000.0,\n",
        "    1450500.0, 3409200.0, 508200.0, 4500.0, 14400.0, 472800.0, 371100.0, 11700.0, 765000.0, 792000.0,\n",
        "    13200.0, 12600.0, 673800.0, 9000.0, 885300.0, 9900.0, 1952400.0, 770100.0, 2184900.0, 632400.0,\n",
        "    605700.0, 1885500.0, 20100.0, 9600.0, 1182300.0, 1510800.0, 660300.0, 1285800.0, 951900.0,\n",
        "    21600.0, 1484100.0, 1168800.0, 1443300.0, 1524900.0, 1039500.0, 856800.0, 25200.0, 1793100.0,\n",
        "    1399800.0, 18900.0, 1659600.0, 21300.0\n",
        "]\n",
        "\n",
        "custos = [\n",
        "    [0.57, 0.53, 0.37, 0.46, 0.50, 0.54, 0.58, 0.55, 0.44, 0.66, 0.38, 0.72, 0.78, 0.80, 0.75, 0.77, 0.88, 0.79, 0.66, 0.72, 0.78, 0.68, 0.74, 0.69, 0.65, 0.67, 0.65, 0.72, 0.79, 0.84, 0.69, 0.79, 0.69, 0.65, 0.69, None, None, None, 0.81, 0.82, 0.84, 0.85, 0.87, 0.59, 0.59, 0.58, 0.28, 0.27, 0.34, 0.34, 0.37],\n",
        "    [None, None, None, None, 0.26, None, None, 0.27, 0.27, 0.30, 0.26, None, None, None, None, None, None, None, None, None, None, None, None, 0.40, None, 0.31, 0.27, 0.30, 0.33, 0.47, 0.30, 0.41, 0.66, 0.26, 0.28, 0.48, 0.47, 0.46, 0.53, 0.55, 0.56, 0.57, 0.54, None, None, None, 0.69, 0.70, 0.66, 0.65, 0.66],\n",
        "    [0.42, 0.41, 0.37, 0.44, 0.44, 0.37, 0.46, 0.38, 0.47, 0.29, 0.55, None, None, None, None, None, None, None, 0.28, 0.29, 0.33, 0.28, 0.20, 0.35, 0.19, 0.28, 0.25, 0.33, 0.21, None, 0.27, 0.29, 0.34, 0.28, 0.30, 0.68, 0.70, 0.67, None, None, None, None, None, 0.46, 0.47, 0.53, 0.83, 0.84, 0.99, 0.88, 1.22]\n",
        "]\n"
      ],
      "metadata": {
        "id": "Rsw2G1M3_NOK"
      },
      "execution_count": 23,
      "outputs": []
    },
    {
      "cell_type": "code",
      "source": [
        "for f in range(len(custos)):\n",
        "    for c in range(len(custos[f])):\n",
        "        if custos[f][c] is not None:\n",
        "            print(f\"fabrica_{f+1}_cliente_{c+1} (${custos[f][c]})\")\n"
      ],
      "metadata": {
        "colab": {
          "base_uri": "https://localhost:8080/"
        },
        "id": "QEU593YHCkdi",
        "outputId": "0b09883b-1854-4481-8540-5c948ce22e2e"
      },
      "execution_count": 24,
      "outputs": [
        {
          "output_type": "stream",
          "name": "stdout",
          "text": [
            "fabrica_1_cliente_1 ($0.57)\n",
            "fabrica_1_cliente_2 ($0.53)\n",
            "fabrica_1_cliente_3 ($0.37)\n",
            "fabrica_1_cliente_4 ($0.46)\n",
            "fabrica_1_cliente_5 ($0.5)\n",
            "fabrica_1_cliente_6 ($0.54)\n",
            "fabrica_1_cliente_7 ($0.58)\n",
            "fabrica_1_cliente_8 ($0.55)\n",
            "fabrica_1_cliente_9 ($0.44)\n",
            "fabrica_1_cliente_10 ($0.66)\n",
            "fabrica_1_cliente_11 ($0.38)\n",
            "fabrica_1_cliente_12 ($0.72)\n",
            "fabrica_1_cliente_13 ($0.78)\n",
            "fabrica_1_cliente_14 ($0.8)\n",
            "fabrica_1_cliente_15 ($0.75)\n",
            "fabrica_1_cliente_16 ($0.77)\n",
            "fabrica_1_cliente_17 ($0.88)\n",
            "fabrica_1_cliente_18 ($0.79)\n",
            "fabrica_1_cliente_19 ($0.66)\n",
            "fabrica_1_cliente_20 ($0.72)\n",
            "fabrica_1_cliente_21 ($0.78)\n",
            "fabrica_1_cliente_22 ($0.68)\n",
            "fabrica_1_cliente_23 ($0.74)\n",
            "fabrica_1_cliente_24 ($0.69)\n",
            "fabrica_1_cliente_25 ($0.65)\n",
            "fabrica_1_cliente_26 ($0.67)\n",
            "fabrica_1_cliente_27 ($0.65)\n",
            "fabrica_1_cliente_28 ($0.72)\n",
            "fabrica_1_cliente_29 ($0.79)\n",
            "fabrica_1_cliente_30 ($0.84)\n",
            "fabrica_1_cliente_31 ($0.69)\n",
            "fabrica_1_cliente_32 ($0.79)\n",
            "fabrica_1_cliente_33 ($0.69)\n",
            "fabrica_1_cliente_34 ($0.65)\n",
            "fabrica_1_cliente_35 ($0.69)\n",
            "fabrica_1_cliente_39 ($0.81)\n",
            "fabrica_1_cliente_40 ($0.82)\n",
            "fabrica_1_cliente_41 ($0.84)\n",
            "fabrica_1_cliente_42 ($0.85)\n",
            "fabrica_1_cliente_43 ($0.87)\n",
            "fabrica_1_cliente_44 ($0.59)\n",
            "fabrica_1_cliente_45 ($0.59)\n",
            "fabrica_1_cliente_46 ($0.58)\n",
            "fabrica_1_cliente_47 ($0.28)\n",
            "fabrica_1_cliente_48 ($0.27)\n",
            "fabrica_1_cliente_49 ($0.34)\n",
            "fabrica_1_cliente_50 ($0.34)\n",
            "fabrica_1_cliente_51 ($0.37)\n",
            "fabrica_2_cliente_5 ($0.26)\n",
            "fabrica_2_cliente_8 ($0.27)\n",
            "fabrica_2_cliente_9 ($0.27)\n",
            "fabrica_2_cliente_10 ($0.3)\n",
            "fabrica_2_cliente_11 ($0.26)\n",
            "fabrica_2_cliente_24 ($0.4)\n",
            "fabrica_2_cliente_26 ($0.31)\n",
            "fabrica_2_cliente_27 ($0.27)\n",
            "fabrica_2_cliente_28 ($0.3)\n",
            "fabrica_2_cliente_29 ($0.33)\n",
            "fabrica_2_cliente_30 ($0.47)\n",
            "fabrica_2_cliente_31 ($0.3)\n",
            "fabrica_2_cliente_32 ($0.41)\n",
            "fabrica_2_cliente_33 ($0.66)\n",
            "fabrica_2_cliente_34 ($0.26)\n",
            "fabrica_2_cliente_35 ($0.28)\n",
            "fabrica_2_cliente_36 ($0.48)\n",
            "fabrica_2_cliente_37 ($0.47)\n",
            "fabrica_2_cliente_38 ($0.46)\n",
            "fabrica_2_cliente_39 ($0.53)\n",
            "fabrica_2_cliente_40 ($0.55)\n",
            "fabrica_2_cliente_41 ($0.56)\n",
            "fabrica_2_cliente_42 ($0.57)\n",
            "fabrica_2_cliente_43 ($0.54)\n",
            "fabrica_2_cliente_47 ($0.69)\n",
            "fabrica_2_cliente_48 ($0.7)\n",
            "fabrica_2_cliente_49 ($0.66)\n",
            "fabrica_2_cliente_50 ($0.65)\n",
            "fabrica_2_cliente_51 ($0.66)\n",
            "fabrica_3_cliente_1 ($0.42)\n",
            "fabrica_3_cliente_2 ($0.41)\n",
            "fabrica_3_cliente_3 ($0.37)\n",
            "fabrica_3_cliente_4 ($0.44)\n",
            "fabrica_3_cliente_5 ($0.44)\n",
            "fabrica_3_cliente_6 ($0.37)\n",
            "fabrica_3_cliente_7 ($0.46)\n",
            "fabrica_3_cliente_8 ($0.38)\n",
            "fabrica_3_cliente_9 ($0.47)\n",
            "fabrica_3_cliente_10 ($0.29)\n",
            "fabrica_3_cliente_11 ($0.55)\n",
            "fabrica_3_cliente_19 ($0.28)\n",
            "fabrica_3_cliente_20 ($0.29)\n",
            "fabrica_3_cliente_21 ($0.33)\n",
            "fabrica_3_cliente_22 ($0.28)\n",
            "fabrica_3_cliente_23 ($0.2)\n",
            "fabrica_3_cliente_24 ($0.35)\n",
            "fabrica_3_cliente_25 ($0.19)\n",
            "fabrica_3_cliente_26 ($0.28)\n",
            "fabrica_3_cliente_27 ($0.25)\n",
            "fabrica_3_cliente_28 ($0.33)\n",
            "fabrica_3_cliente_29 ($0.21)\n",
            "fabrica_3_cliente_31 ($0.27)\n",
            "fabrica_3_cliente_32 ($0.29)\n",
            "fabrica_3_cliente_33 ($0.34)\n",
            "fabrica_3_cliente_34 ($0.28)\n",
            "fabrica_3_cliente_35 ($0.3)\n",
            "fabrica_3_cliente_36 ($0.68)\n",
            "fabrica_3_cliente_37 ($0.7)\n",
            "fabrica_3_cliente_38 ($0.67)\n",
            "fabrica_3_cliente_44 ($0.46)\n",
            "fabrica_3_cliente_45 ($0.47)\n",
            "fabrica_3_cliente_46 ($0.53)\n",
            "fabrica_3_cliente_47 ($0.83)\n",
            "fabrica_3_cliente_48 ($0.84)\n",
            "fabrica_3_cliente_49 ($0.99)\n",
            "fabrica_3_cliente_50 ($0.88)\n",
            "fabrica_3_cliente_51 ($1.22)\n"
          ]
        }
      ]
    },
    {
      "cell_type": "code",
      "source": [
        "num_fabricas = len(capacidades)\n",
        "num_clientes = len(demandas)"
      ],
      "metadata": {
        "id": "WPggfU_yDZRS"
      },
      "execution_count": 25,
      "outputs": []
    },
    {
      "cell_type": "code",
      "source": [
        "modelo = LpProblem(\"Problema_de_Transporte\", LpMinimize)"
      ],
      "metadata": {
        "id": "RRaYhlKbDj2w"
      },
      "execution_count": 26,
      "outputs": []
    },
    {
      "cell_type": "code",
      "source": [
        "x = {(i, j): LpVariable(f\"x_{i}_{j}\", lowBound=0, cat='Continuous')\n",
        "     for i in range(num_fabricas)\n",
        "     for j in range(num_clientes)\n",
        "     if custos[i][j] is not None}\n"
      ],
      "metadata": {
        "id": "8iWlaOfFEgot"
      },
      "execution_count": 27,
      "outputs": []
    },
    {
      "cell_type": "code",
      "source": [
        "modelo += lpSum(x[i, j] * custos[i][j] for (i, j) in x), \"Custo_Total\""
      ],
      "metadata": {
        "id": "lkQiIEe8ExaM"
      },
      "execution_count": 28,
      "outputs": []
    },
    {
      "cell_type": "code",
      "source": [
        "for j in range(num_clientes):\n",
        "    modelo += lpSum(x[i, j] for i in range(num_fabricas) if (i, j) in x) == demandas[j], f\"Demanda_cliente_{j}\""
      ],
      "metadata": {
        "id": "cMv8RY9mE0xP"
      },
      "execution_count": 29,
      "outputs": []
    },
    {
      "cell_type": "code",
      "source": [
        "for i in range(num_fabricas):\n",
        "    modelo += lpSum(x[i, j] for j in range(num_clientes) if (i, j) in x) <= capacidades[i], f\"Capacidade_fabrica_{i}\""
      ],
      "metadata": {
        "id": "z73cdpdyE3ct"
      },
      "execution_count": 30,
      "outputs": []
    },
    {
      "cell_type": "code",
      "source": [
        "modelo.solve()"
      ],
      "metadata": {
        "colab": {
          "base_uri": "https://localhost:8080/"
        },
        "id": "jWTaWsqeE6c1",
        "outputId": "fd82728e-d49d-42e4-a735-dea382000ed3"
      },
      "execution_count": 31,
      "outputs": [
        {
          "output_type": "execute_result",
          "data": {
            "text/plain": [
              "1"
            ]
          },
          "metadata": {},
          "execution_count": 31
        }
      ]
    },
    {
      "cell_type": "code",
      "source": [
        "print(f\"Status: {LpStatus[modelo.status]}\")\n",
        "print(f\"Custo Total: R$ {value(modelo.objective):,.2f}\\n\")"
      ],
      "metadata": {
        "colab": {
          "base_uri": "https://localhost:8080/"
        },
        "id": "SS2LVwBbE_g6",
        "outputId": "a5fea840-65f6-425b-d420-1c12f8f8e353"
      },
      "execution_count": 32,
      "outputs": [
        {
          "output_type": "stream",
          "name": "stdout",
          "text": [
            "Status: Optimal\n",
            "Custo Total: R$ 19,167,746.00\n",
            "\n"
          ]
        }
      ]
    },
    {
      "cell_type": "code",
      "source": [
        "for (i, j) in x:\n",
        "    if x[i, j].varValue > 0:\n",
        "        print(f\"Fábrica {i+1} -> Cliente {j+1}: {x[i, j].varValue:.2f} unidades (Custo unitário: R$ {custos[i][j]})\")\n"
      ],
      "metadata": {
        "colab": {
          "base_uri": "https://localhost:8080/"
        },
        "id": "6_D2-XcfFEwE",
        "outputId": "c380574c-cc1b-40bc-b32f-c7ca679d11df"
      },
      "execution_count": 33,
      "outputs": [
        {
          "output_type": "stream",
          "name": "stdout",
          "text": [
            "Fábrica 1 -> Cliente 2: 865500.00 unidades (Custo unitário: R$ 0.53)\n",
            "Fábrica 1 -> Cliente 3: 436800.00 unidades (Custo unitário: R$ 0.37)\n",
            "Fábrica 1 -> Cliente 4: 782700.00 unidades (Custo unitário: R$ 0.46)\n",
            "Fábrica 1 -> Cliente 9: 2943000.00 unidades (Custo unitário: R$ 0.44)\n",
            "Fábrica 1 -> Cliente 11: 3409200.00 unidades (Custo unitário: R$ 0.38)\n",
            "Fábrica 1 -> Cliente 12: 508200.00 unidades (Custo unitário: R$ 0.72)\n",
            "Fábrica 1 -> Cliente 13: 4500.00 unidades (Custo unitário: R$ 0.78)\n",
            "Fábrica 1 -> Cliente 14: 14400.00 unidades (Custo unitário: R$ 0.8)\n",
            "Fábrica 1 -> Cliente 15: 472800.00 unidades (Custo unitário: R$ 0.75)\n",
            "Fábrica 1 -> Cliente 16: 371100.00 unidades (Custo unitário: R$ 0.77)\n",
            "Fábrica 1 -> Cliente 17: 11700.00 unidades (Custo unitário: R$ 0.88)\n",
            "Fábrica 1 -> Cliente 18: 765000.00 unidades (Custo unitário: R$ 0.79)\n",
            "Fábrica 1 -> Cliente 45: 806800.00 unidades (Custo unitário: R$ 0.59)\n",
            "Fábrica 1 -> Cliente 46: 25200.00 unidades (Custo unitário: R$ 0.58)\n",
            "Fábrica 1 -> Cliente 47: 1793100.00 unidades (Custo unitário: R$ 0.28)\n",
            "Fábrica 1 -> Cliente 48: 1399800.00 unidades (Custo unitário: R$ 0.27)\n",
            "Fábrica 1 -> Cliente 49: 18900.00 unidades (Custo unitário: R$ 0.34)\n",
            "Fábrica 1 -> Cliente 50: 1659600.00 unidades (Custo unitário: R$ 0.34)\n",
            "Fábrica 1 -> Cliente 51: 21300.00 unidades (Custo unitário: R$ 0.37)\n",
            "Fábrica 2 -> Cliente 5: 2363400.00 unidades (Custo unitário: R$ 0.26)\n",
            "Fábrica 2 -> Cliente 8: 990200.00 unidades (Custo unitário: R$ 0.27)\n",
            "Fábrica 2 -> Cliente 30: 605700.00 unidades (Custo unitário: R$ 0.47)\n",
            "Fábrica 2 -> Cliente 36: 660300.00 unidades (Custo unitário: R$ 0.48)\n",
            "Fábrica 2 -> Cliente 37: 1285800.00 unidades (Custo unitário: R$ 0.47)\n",
            "Fábrica 2 -> Cliente 38: 951900.00 unidades (Custo unitário: R$ 0.46)\n",
            "Fábrica 2 -> Cliente 39: 21600.00 unidades (Custo unitário: R$ 0.53)\n",
            "Fábrica 2 -> Cliente 40: 1484100.00 unidades (Custo unitário: R$ 0.55)\n",
            "Fábrica 2 -> Cliente 41: 1168800.00 unidades (Custo unitário: R$ 0.56)\n",
            "Fábrica 2 -> Cliente 42: 1443300.00 unidades (Custo unitário: R$ 0.57)\n",
            "Fábrica 2 -> Cliente 43: 1524900.00 unidades (Custo unitário: R$ 0.54)\n",
            "Fábrica 3 -> Cliente 1: 1172400.00 unidades (Custo unitário: R$ 0.42)\n",
            "Fábrica 3 -> Cliente 6: 1324500.00 unidades (Custo unitário: R$ 0.37)\n",
            "Fábrica 3 -> Cliente 7: 1203600.00 unidades (Custo unitário: R$ 0.46)\n",
            "Fábrica 3 -> Cliente 8: 715600.00 unidades (Custo unitário: R$ 0.38)\n",
            "Fábrica 3 -> Cliente 10: 1450500.00 unidades (Custo unitário: R$ 0.29)\n",
            "Fábrica 3 -> Cliente 19: 792000.00 unidades (Custo unitário: R$ 0.28)\n",
            "Fábrica 3 -> Cliente 20: 13200.00 unidades (Custo unitário: R$ 0.29)\n",
            "Fábrica 3 -> Cliente 21: 12600.00 unidades (Custo unitário: R$ 0.33)\n",
            "Fábrica 3 -> Cliente 22: 673800.00 unidades (Custo unitário: R$ 0.28)\n",
            "Fábrica 3 -> Cliente 23: 9000.00 unidades (Custo unitário: R$ 0.2)\n",
            "Fábrica 3 -> Cliente 24: 885300.00 unidades (Custo unitário: R$ 0.35)\n",
            "Fábrica 3 -> Cliente 25: 9900.00 unidades (Custo unitário: R$ 0.19)\n",
            "Fábrica 3 -> Cliente 26: 1952400.00 unidades (Custo unitário: R$ 0.28)\n",
            "Fábrica 3 -> Cliente 27: 770100.00 unidades (Custo unitário: R$ 0.25)\n",
            "Fábrica 3 -> Cliente 28: 2184900.00 unidades (Custo unitário: R$ 0.33)\n",
            "Fábrica 3 -> Cliente 29: 632400.00 unidades (Custo unitário: R$ 0.21)\n",
            "Fábrica 3 -> Cliente 31: 1885500.00 unidades (Custo unitário: R$ 0.27)\n",
            "Fábrica 3 -> Cliente 32: 20100.00 unidades (Custo unitário: R$ 0.29)\n",
            "Fábrica 3 -> Cliente 33: 9600.00 unidades (Custo unitário: R$ 0.34)\n",
            "Fábrica 3 -> Cliente 34: 1182300.00 unidades (Custo unitário: R$ 0.28)\n",
            "Fábrica 3 -> Cliente 35: 1510800.00 unidades (Custo unitário: R$ 0.3)\n",
            "Fábrica 3 -> Cliente 44: 1039500.00 unidades (Custo unitário: R$ 0.46)\n",
            "Fábrica 3 -> Cliente 45: 50000.00 unidades (Custo unitário: R$ 0.47)\n"
          ]
        }
      ]
    },
    {
      "cell_type": "code",
      "source": [
        "for i in range(num_fabricas):\n",
        "    total_fabrica = sum(x[i,j].varValue for j in range(num_clientes) if (i,j) in x)\n",
        "    print(f\"Fábrica {i+1} total enviada: {total_fabrica:.2f}\")"
      ],
      "metadata": {
        "colab": {
          "base_uri": "https://localhost:8080/"
        },
        "id": "9zFaB3meFKVU",
        "outputId": "e7300058-dcfb-4955-efeb-6ba4fa95d813"
      },
      "execution_count": 34,
      "outputs": [
        {
          "output_type": "stream",
          "name": "stdout",
          "text": [
            "Fábrica 1 total enviada: 16309600.00\n",
            "Fábrica 2 total enviada: 12500000.00\n",
            "Fábrica 3 total enviada: 19500000.00\n"
          ]
        }
      ]
    },
    {
      "cell_type": "code",
      "source": [
        "custo_modelo = value(modelo.objective)"
      ],
      "metadata": {
        "id": "dgLgQAseFMkj"
      },
      "execution_count": 35,
      "outputs": []
    },
    {
      "cell_type": "code",
      "source": [
        "custo_real = 25447365.1175012"
      ],
      "metadata": {
        "id": "W-qn9kj1FZ-S"
      },
      "execution_count": 36,
      "outputs": []
    },
    {
      "cell_type": "code",
      "source": [
        "diferenca = custo_real - custo_modelo"
      ],
      "metadata": {
        "id": "ygoTeX_BFcpR"
      },
      "execution_count": 37,
      "outputs": []
    },
    {
      "cell_type": "code",
      "source": [
        "percentual = (diferenca / custo_modelo) * 100"
      ],
      "metadata": {
        "id": "Zq4lNvGxFf67"
      },
      "execution_count": 38,
      "outputs": []
    },
    {
      "cell_type": "code",
      "source": [
        "print(f\"Custo calculado pelo modelo: R$ {custo_modelo:,.2f}\")\n",
        "print(f\"Custo real pago no ano: R$ {custo_real:,.2f}\")\n",
        "print(f\"Diferença absoluta: R$ {diferenca:,.2f}\")\n",
        "print(f\"Diferença percentual: {percentual:.2f}%\")"
      ],
      "metadata": {
        "colab": {
          "base_uri": "https://localhost:8080/"
        },
        "id": "YC4l3nO2Fic4",
        "outputId": "1e292a78-0a25-4df2-d3dc-d7059e3651eb"
      },
      "execution_count": 39,
      "outputs": [
        {
          "output_type": "stream",
          "name": "stdout",
          "text": [
            "Custo calculado pelo modelo: R$ 19,167,746.00\n",
            "Custo real pago no ano: R$ 25,447,365.12\n",
            "Diferença absoluta: R$ 6,279,619.12\n",
            "Diferença percentual: 32.76%\n"
          ]
        }
      ]
    },
    {
      "cell_type": "code",
      "source": [
        "total_enviado = sum(v.varValue for v in x.values())\n",
        "\n",
        "print(f\"Total enviado pelas 3 fábricas: {total_enviado}\")"
      ],
      "metadata": {
        "colab": {
          "base_uri": "https://localhost:8080/"
        },
        "id": "i-Teo3K0Fxop",
        "outputId": "0fddcd8c-454e-4748-efde-b52e33a93086"
      },
      "execution_count": 40,
      "outputs": [
        {
          "output_type": "stream",
          "name": "stdout",
          "text": [
            "Total enviado pelas 3 fábricas: 48309600.0\n"
          ]
        }
      ]
    }
  ]
}